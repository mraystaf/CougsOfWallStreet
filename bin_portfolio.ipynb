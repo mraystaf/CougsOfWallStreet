{
 "cells": [
  {
   "cell_type": "code",
   "execution_count": 5,
   "metadata": {},
   "outputs": [],
   "source": [
    "import pandas as pd"
   ]
  },
  {
   "cell_type": "code",
   "execution_count": 6,
   "metadata": {},
   "outputs": [],
   "source": [
    "def BinPortfolio(dataframe, all_dataframe_vars=['PERMNO', 'DATE', 'mkt', 'RET_t+1'], vars_to_bin=['mkt'], go_long=[True], number_of_bins=5):\n",
    "    \"\"\"Parameters: \n",
    "        - vars_to_bin (list<string>): A list of variables around which binning should take place\n",
    "        - coeff_signs (list[1 or -1]): A list indicating whether to go high or low in each bin\n",
    "        - df (pd.Dataframe): a dataframe containing all of the necessary data.\n",
    "        Returns:\n",
    "        - portfolio: a dataframe containing stocks to go long in.\n",
    "        - average return: the return of the portfolio (assuming equal weights)\n",
    "    \"\"\"\n",
    "\n",
    "    if len(go_long) != len(vars_to_bin):\n",
    "        raise ValueError(f\"The length of go_long needs to be the same as the length of vars_to_bin. {len(go_long)} != {len(vars_to_bin)}\")\n",
    "\n",
    "    # Find the subset of the dataframe that we care about\n",
    "    df = dataframe[all_dataframe_vars]\n",
    "    df = df.dropna()\n",
    "    df = df.reset_index(drop=True)\n",
    "\n",
    "    bin_names = []\n",
    "    best_bins = []\n",
    "    for i, bin_var in enumerate(vars_to_bin):\n",
    "        column_name = f\"{bin_var}_bins\"\n",
    "        bin_names.append(column_name)\n",
    "\n",
    "        if len(df.index) <= 1:\n",
    "            raise ValueError(\"There are not enough stocks that satisfy the given requirements\")\n",
    "        df[column_name] = pd.qcut(df[bin_var],number_of_bins,labels=False)\n",
    "\n",
    "        # Based on go_long, take the highest or lowest bin\n",
    "\n",
    "        best_bin = number_of_bins - 1 if go_long[i] else 0\n",
    "\n",
    "        df = df[df[column_name] == best_bin]\n",
    "\n",
    "        # Delete the bin column name\n",
    "        del df[column_name]\n",
    "\n",
    "        best_bins.append(best_bin)\n",
    "\n",
    "    # NOTE: This port stuff can be useful to visualize if there's only to variables to bin\n",
    "    #port = df.groupby(bin_names)['RET'].mean()*100\n",
    "    #port = port.unstack(level=bin_names[-1])\n",
    "    df = df.reset_index(drop=True)\n",
    "\n",
    "    return df"
   ]
  },
  {
   "cell_type": "code",
   "execution_count": 7,
   "metadata": {},
   "outputs": [],
   "source": [
    "# Load data into pandas dataframe\n",
    "#df = pd.read_parquet('Data/BoQ_Data.parquet')\n",
    "#df.head()"
   ]
  },
  {
   "cell_type": "code",
   "execution_count": 8,
   "metadata": {},
   "outputs": [],
   "source": [
    "# vars_to_bin = ['ME', 'BEME']\n",
    "# vars_to_bin = [\"roic\", \"BEME\", \"ME\", \"p1_mktrf_beta\"]\n",
    "# go_long = [True]*len(vars_to_bin)\n",
    "# subset = df[df['DATE'] == '1986-05-31']\n",
    "# portfolio = BinPortfolio(dataframe=subset, vars_to_bin=vars_to_bin, go_long=go_long)\n",
    "# portfolio"
   ]
  },
  {
   "cell_type": "code",
   "execution_count": null,
   "metadata": {},
   "outputs": [],
   "source": []
  }
 ],
 "metadata": {
  "kernelspec": {
   "display_name": "Python 3",
   "language": "python",
   "name": "python3"
  },
  "language_info": {
   "codemirror_mode": {
    "name": "ipython",
    "version": 3
   },
   "file_extension": ".py",
   "mimetype": "text/x-python",
   "name": "python",
   "nbconvert_exporter": "python",
   "pygments_lexer": "ipython3",
   "version": "3.11.7"
  }
 },
 "nbformat": 4,
 "nbformat_minor": 2
}
