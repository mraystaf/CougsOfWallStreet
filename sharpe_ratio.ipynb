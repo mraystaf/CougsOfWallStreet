{
 "cells": [
  {
   "cell_type": "code",
   "execution_count": 22,
   "metadata": {},
   "outputs": [],
   "source": [
    "import pandas as pd\n",
    "import numpy as np\n",
    "import import_ipynb\n",
    "from format_data import LoadAndFormatData\n",
    "from bin_portfolio import BinPortfolio"
   ]
  },
  {
   "cell_type": "code",
   "execution_count": 23,
   "metadata": {},
   "outputs": [],
   "source": [
    "def SharpeRatio(portfolio: pd.DataFrame, df: pd.DataFrame, rf: float) -> float:\n",
    "    # TODO: Change all_portfolio_returns to only include stuff from this data and earlier?? Maybe?\n",
    "    N = portfolio['PERMNO'].unique().size\n",
    "    current_date = portfolio['DATE'].values[0]\n",
    "    permnos = portfolio['PERMNO'].unique()\n",
    "\n",
    "    # Create a dataframe containing all of the returns for every stock in the portfolio.\n",
    "    # This is used to create the portfolio standard deviation.\n",
    "    all_portfolio_returns = df[df['PERMNO'].isin(permnos)][['PERMNO', 'DATE', 'RET_t+1']]\n",
    "    all_portfolio_returns = all_portfolio_returns[all_portfolio_returns['DATE'] <= current_date]\n",
    "\n",
    "    all_portfolio_returns = all_portfolio_returns.pivot(index='DATE', columns='PERMNO', values='RET_t+1')\n",
    "    all_portfolio_returns = all_portfolio_returns.fillna(0)\n",
    "    # NOTE: Filling missing values with 0 may underestimate the \"true\" variance, \n",
    "    # and thereby overestimating the Sharpe Ratio\n",
    "\n",
    "    weights = np.ones(N) / N # We will use an equal-weight portfolio\n",
    "    cov_matrix = all_portfolio_returns.cov().to_numpy()\n",
    "    std_dev = np.sqrt(weights.T @ cov_matrix @ weights)\n",
    "\n",
    "    return (np.mean(portfolio['RET_t+1']) - rf) / std_dev"
   ]
  },
  {
   "cell_type": "code",
   "execution_count": 24,
   "metadata": {},
   "outputs": [],
   "source": [
    "# df = LoadAndFormatData()\n",
    "# df.head()"
   ]
  },
  {
   "cell_type": "code",
   "execution_count": 25,
   "metadata": {},
   "outputs": [],
   "source": [
    "# dependent_var = ['RET']\n",
    "# regressors = [\"mkt\", \"roic\", \"BEME\", 'ME']\n",
    "# all_dataframe_vars = regressors + dependent_var + ['DATE', 'PERMNO', 'RET_t+1']\n",
    "\n",
    "# subset = df[pd.DatetimeIndex(df['DATE']) == '2023-01-31']\n",
    "# go_long = [True]*len(regressors)\n",
    "# portfolio = BinPortfolio(dataframe=subset, all_dataframe_vars=all_dataframe_vars, vars_to_bin=regressors, go_long=go_long)\n",
    "# portfolio = portfolio.merge(df[['PERMNO', 'DATE', 'RET_t+1']], on=[\"PERMNO\", \"DATE\", 'RET_t+1'], how=\"left\")\n",
    "# portfolio"
   ]
  },
  {
   "cell_type": "code",
   "execution_count": 26,
   "metadata": {},
   "outputs": [],
   "source": [
    "# SharpeRatio(portfolio=portfolio, df=df, rf=0)"
   ]
  },
  {
   "cell_type": "code",
   "execution_count": 27,
   "metadata": {},
   "outputs": [],
   "source": [
    "# df['DATE'].max()"
   ]
  },
  {
   "cell_type": "code",
   "execution_count": null,
   "metadata": {},
   "outputs": [],
   "source": []
  }
 ],
 "metadata": {
  "kernelspec": {
   "display_name": "Python 3",
   "language": "python",
   "name": "python3"
  },
  "language_info": {
   "codemirror_mode": {
    "name": "ipython",
    "version": 3
   },
   "file_extension": ".py",
   "mimetype": "text/x-python",
   "name": "python",
   "nbconvert_exporter": "python",
   "pygments_lexer": "ipython3",
   "version": "3.11.7"
  }
 },
 "nbformat": 4,
 "nbformat_minor": 2
}
