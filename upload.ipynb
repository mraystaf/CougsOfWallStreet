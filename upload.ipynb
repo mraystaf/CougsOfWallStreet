{
 "cells": [
  {
   "cell_type": "code",
   "execution_count": null,
   "metadata": {
    "vscode": {
     "languageId": "plaintext"
    }
   },
   "outputs": [],
   "source": [
    "pnlalltime = []\n",
    "pnl20002019 = []\n",
    "pnl20102019 = []\n",
    "pnl2020present = []\n",
    "\n",
    "start_investment = 100\n",
    "for percentincrease in pnl_curves:\n",
    "    start_investment = start_investment * percentincrease/100 + start_investment\n",
    "    pnlalltime.append(start_investment-100)\n",
    "\n",
    "start_investment = 100\n",
    "for percentincrease in pnl_curves[522:751]:\n",
    "    start_investment = start_investment * percentincrease/100 + start_investment\n",
    "    pnl20002019.append(start_investment-100)\n",
    "\n",
    "start_investment = 100\n",
    "for percentincrease in pnl_curves[642:751]:\n",
    "    start_investment = start_investment * percentincrease/100 + start_investment\n",
    "    pnl20102019.append(start_investment-100)\n",
    "\n",
    "start_investment = 100\n",
    "for percentincrease in pnl_curves[762:]:\n",
    "    start_investment = start_investment * percentincrease/100 + start_investment\n",
    "    pnl2020present.append(start_investment-100)\n"
   ]
  }
 ],
 "metadata": {
  "language_info": {
   "name": "python"
  }
 },
 "nbformat": 4,
 "nbformat_minor": 2
}
