{
 "cells": [
  {
   "cell_type": "code",
   "execution_count": 1,
   "metadata": {},
   "outputs": [],
   "source": [
    "import pandas as pd"
   ]
  },
  {
   "cell_type": "code",
   "execution_count": 2,
   "metadata": {},
   "outputs": [],
   "source": [
    "def LoadAndFormatData(date_to_begin=None):\n",
    "\n",
    "    # Load data into pandas dataframe\n",
    "    df = pd.read_parquet('Data/BoQ_Data.parquet')\n",
    "    df['DATE'] = pd.to_datetime(df['DATE'])\n",
    "    if date_to_begin is not None:\n",
    "        date_to_begin = pd.to_datetime(date_to_begin)\n",
    "        df = df[df['DATE'] >= date_to_begin]\n",
    "\n",
    "    def AddMarketReturn(dataframe):\n",
    "        \"\"\"Adds a market return variable (mkt) to the dataframe\"\"\"\n",
    "\n",
    "        # Define a function to calculate the weighted mean return\n",
    "        def weighted_mean(group):\n",
    "            return (group['RET'] * group['ME']).sum() / group['ME'].sum()\n",
    "\n",
    "        # Group by 'year' and apply the weighted mean to each group\n",
    "        dataframe['mkt'] = dataframe.groupby('DATE').apply(\n",
    "            lambda group: pd.Series(weighted_mean(group), index=group.index)\n",
    "        ).reset_index(drop=True)\n",
    "\n",
    "        return dataframe\n",
    "    \n",
    "    df['RET_t+1'] = df.groupby(\"PERMNO\")['RET'].shift(-1)\n",
    "    \n",
    "    df = AddMarketReturn(df)\n",
    "    return df"
   ]
  },
  {
   "cell_type": "code",
   "execution_count": 3,
   "metadata": {},
   "outputs": [],
   "source": [
    "#LoadAndFormatData()"
   ]
  },
  {
   "cell_type": "code",
   "execution_count": null,
   "metadata": {},
   "outputs": [],
   "source": []
  }
 ],
 "metadata": {
  "kernelspec": {
   "display_name": "Python 3",
   "language": "python",
   "name": "python3"
  },
  "language_info": {
   "codemirror_mode": {
    "name": "ipython",
    "version": 3
   },
   "file_extension": ".py",
   "mimetype": "text/x-python",
   "name": "python",
   "nbconvert_exporter": "python",
   "pygments_lexer": "ipython3",
   "version": "3.11.7"
  }
 },
 "nbformat": 4,
 "nbformat_minor": 2
}
