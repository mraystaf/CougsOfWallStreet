{
 "cells": [
  {
   "cell_type": "code",
   "execution_count": 5,
   "metadata": {},
   "outputs": [],
   "source": [
    "# import numpy as np\n",
    "# import pandas as pd\n",
    "import statsmodels.api as sm\n",
    "# import import_ipynb\n",
    "# from format_data import LoadAndFormatData\n",
    "from finance_byu.regtables import Regtable"
   ]
  },
  {
   "cell_type": "code",
   "execution_count": 6,
   "metadata": {},
   "outputs": [],
   "source": [
    "def FindCoefficients(dataframe, regressors):\n",
    "    \"\"\"This function takes the data that needs to be regressed upon and find the signs of the coefficients\"\"\"\n",
    "    \"\"\"I will assume that the dataframe has already been cleaned\"\"\"\n",
    "    y = dataframe['RET']\n",
    "    X = dataframe[regressors]\n",
    "    X = sm.add_constant(X)\n",
    "\n",
    "    reg_list = []\n",
    "    #we make the regression \n",
    "    model = sm.OLS(y, X).fit()\n",
    "    reg_list.append(model)\n",
    "    regtable = Regtable(reg_list,stat='tstat',sig=False)\n",
    "    tbl = regtable.render()\n",
    "\n",
    "    output = []\n",
    "\n",
    "    for variable in regressors:\n",
    "        output.append(float(tbl.loc[variable].iloc[0]) > 0)\n",
    "\n",
    "    return output"
   ]
  },
  {
   "cell_type": "code",
   "execution_count": 7,
   "metadata": {},
   "outputs": [],
   "source": [
    "# # Load and modify the data\n",
    "# df = LoadAndFormatData()\n",
    "# df.head()"
   ]
  },
  {
   "cell_type": "code",
   "execution_count": 8,
   "metadata": {},
   "outputs": [
    {
     "ename": "",
     "evalue": "",
     "output_type": "error",
     "traceback": [
      "\u001b[1;31mThe Kernel crashed while executing code in the current cell or a previous cell. \n",
      "\u001b[1;31mPlease review the code in the cell(s) to identify a possible cause of the failure. \n",
      "\u001b[1;31mClick <a href='https://aka.ms/vscodeJupyterKernelCrash'>here</a> for more info. \n",
      "\u001b[1;31mView Jupyter <a href='command:jupyter.viewOutput'>log</a> for further details."
     ]
    }
   ],
   "source": [
    "# regressors = [\"mkt\", \"roic\", \"BEME\", 'ME']\n",
    "# onePiece = df[df['DATE'] == '2023-01-31']\n",
    "# onePiece = onePiece[regressors + ['RET']]\n",
    "# onePiece = onePiece.dropna()\n",
    "\n",
    "# FindCoefficients(dataframe=onePiece, regressors=regressors)"
   ]
  },
  {
   "cell_type": "code",
   "execution_count": null,
   "metadata": {},
   "outputs": [],
   "source": []
  }
 ],
 "metadata": {
  "kernelspec": {
   "display_name": "Python 3",
   "language": "python",
   "name": "python3"
  },
  "language_info": {
   "codemirror_mode": {
    "name": "ipython",
    "version": 3
   },
   "file_extension": ".py",
   "mimetype": "text/x-python",
   "name": "python",
   "nbconvert_exporter": "python",
   "pygments_lexer": "ipython3",
   "version": "3.11.7"
  }
 },
 "nbformat": 4,
 "nbformat_minor": 2
}
