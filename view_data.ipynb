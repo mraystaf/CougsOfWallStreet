{
 "cells": [
  {
   "cell_type": "code",
   "execution_count": 16,
   "metadata": {},
   "outputs": [],
   "source": [
    "import numpy as np\n",
    "import pandas as pd\n",
    "import statsmodels.api as sm\n",
    "from finance_byu.regtables import Regtable\n",
    "import warnings"
   ]
  },
  {
   "cell_type": "code",
   "execution_count": null,
   "metadata": {},
   "outputs": [],
   "source": [
    "# Load data into pandas dataframe\n",
    "df = pd.read_parquet('Data/BoQ_Data.parquet')\n",
    "df.head()"
   ]
  },
  {
   "cell_type": "code",
   "execution_count": null,
   "metadata": {},
   "outputs": [],
   "source": [
    "reduced_variables = pd.read_excel('Data/Reduced Variables.xlsx',sheet_name=\"Sheet2\", header=None)[0].to_list()\n",
    "reduced_variables"
   ]
  },
  {
   "cell_type": "code",
   "execution_count": 43,
   "metadata": {},
   "outputs": [],
   "source": [
    "dataframe = df[reduced_variables + ['RET']]\n",
    "dataframe = dataframe.dropna().reset_index(drop=True)\n",
    "y = dataframe['RET']\n",
    "del dataframe['RET']\n",
    "reg_list = []\n",
    "\n",
    "X = dataframe\n",
    "X = sm.add_constant(X)\n",
    "model = sm.OLS(y, X).fit()\n",
    "reg_list.append(model)"
   ]
  },
  {
   "cell_type": "code",
   "execution_count": null,
   "metadata": {},
   "outputs": [],
   "source": [
    "tbl = Regtable(reg_list,stat='tstat',sig='coeff')\n",
    "results = tbl.render()\n",
    "results"
   ]
  },
  {
   "cell_type": "code",
   "execution_count": null,
   "metadata": {},
   "outputs": [],
   "source": [
    "# For calculating momentum portfolios - ignore for now\n",
    "warnings.simplefilter('ignore')\n",
    "variables_of_interest = ['PERMNO', 'DATE', 'RET', 'beta', 'idio_vol', 'BEME']\n",
    "subset = df[variables_of_interest]\n",
    "\n",
    "# Calculate monthly returns\n",
    "subset['MONTHYEAR'] = pd.DatetimeIndex(subset['DATE']).month.astype(str) + '-' + pd.DatetimeIndex(subset['DATE']).year.astype(str)\n",
    "subset['monthly_ret'] = subset.groupby('MONTHYEAR')['RET'].mean()\n",
    "\n",
    "monthly_data = subset.groupby(['MONTHYEAR', 'PERMNO'])[['RET', 'beta', 'idio_vol', 'BEME']].mean()\n",
    "monthly_data['DATE'] = subset.groupby(['MONTHYEAR', 'PERMNO'])['DATE'].min()\n",
    "\n",
    "monthly_data = monthly_data.reset_index()\n",
    "\n",
    "# Calculate momentum\n",
    "monthly_data['logret'] = np.log(1 + monthly_data['RET'])\n",
    "monthly_data['mom'] = monthly_data.groupby('PERMNO')['logret'].rolling(11,11).sum().reset_index(drop=True) # First we create the momentum\n",
    "monthly_data['mom'] = monthly_data.groupby('PERMNO')['mom'].shift(2)\n",
    "\n",
    "monthly_data = monthly_data.dropna().reset_index(drop=True)\n",
    "monthly_data"
   ]
  },
  {
   "cell_type": "code",
   "execution_count": null,
   "metadata": {},
   "outputs": [],
   "source": [
    "from itertools import combinations\n",
    "\n",
    "def RobustnessCheck(dataframe: pd.DataFrame):\n",
    "\n",
    "    reg_list = []\n",
    "    vars_list = ['beta', 'idio_vol', 'BEME'] # If the data is monthly, we can use 'mom'\n",
    "\n",
    "    dataframe = dataframe[vars_list + ['RET']].dropna().reset_index(drop=True)\n",
    "\n",
    "    # Robustness check. The coefficients are pretty steady\n",
    "    for i in range(1, len(vars_list)+1):\n",
    "        for combo in combinations(vars_list, i):\n",
    "            X = dataframe[list(combo)]\n",
    "            X = sm.add_constant(X)\n",
    "            y = dataframe['RET']\n",
    "            model = sm.OLS(y, X).fit()\n",
    "            reg_list.append(model)\n",
    "    tbl = Regtable(reg_list,stat='tstat',sig='coeff')\n",
    "    return tbl\n",
    "\n",
    "tbl = RobustnessCheck(df)\n",
    "\n",
    "tbl.render()"
   ]
  },
  {
   "cell_type": "code",
   "execution_count": null,
   "metadata": {},
   "outputs": [],
   "source": [
    "tbl2 = RobustnessCheck(monthly_data)\n",
    "tbl2.render()"
   ]
  },
  {
   "cell_type": "code",
   "execution_count": null,
   "metadata": {},
   "outputs": [],
   "source": [
    "# Potential Sharpe Ratio function. Haven't debugged\n",
    "def SharpeRatio(returns: pd.Series):\n",
    "    # Note: This isn't exactly the Sharpe Ratio because we don't have the risk-free rate\n",
    "    return np.mean(returns) / np.std(returns)\n",
    "\n",
    "SharpeRatio(y)"
   ]
  },
  {
   "cell_type": "code",
   "execution_count": null,
   "metadata": {},
   "outputs": [],
   "source": []
  }
 ],
 "metadata": {
  "kernelspec": {
   "display_name": "Python 3",
   "language": "python",
   "name": "python3"
  },
  "language_info": {
   "codemirror_mode": {
    "name": "ipython",
    "version": 3
   },
   "file_extension": ".py",
   "mimetype": "text/x-python",
   "name": "python",
   "nbconvert_exporter": "python",
   "pygments_lexer": "ipython3",
   "version": "3.11.7"
  }
 },
 "nbformat": 4,
 "nbformat_minor": 2
}
