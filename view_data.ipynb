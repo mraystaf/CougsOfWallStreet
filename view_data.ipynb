{
 "cells": [
  {
   "cell_type": "code",
   "execution_count": 58,
   "metadata": {},
   "outputs": [],
   "source": [
    "import numpy as np\n",
    "import pandas as pd\n",
    "import statsmodels.api as sm\n",
    "from finance_byu.regtables import Regtable\n",
    "import warnings\n",
    "import matplotlib.pyplot as plt"
   ]
  },
  {
   "cell_type": "code",
   "execution_count": null,
   "metadata": {},
   "outputs": [],
   "source": [
    "# Load data into pandas dataframe\n",
    "df = pd.read_parquet('Data/BoQ_Data.parquet')\n",
    "df.head()"
   ]
  },
  {
   "cell_type": "code",
   "execution_count": null,
   "metadata": {},
   "outputs": [],
   "source": [
    "reduced_variables = pd.read_excel('Data/Reduced Variables.xlsx',sheet_name=\"Sheet2\", header=None)[0].to_list()\n",
    "all_variables = pd.read_excel('Data/Variables.xlsx',sheet_name=\"Sheet2\", header=None)[0].to_list()\n",
    "for item in ['PERMNO', 'DATE', 'RET', 'SICCD']:\n",
    "    all_variables.remove(item)\n",
    "reduced_variables"
   ]
  },
  {
   "cell_type": "code",
   "execution_count": 20,
   "metadata": {},
   "outputs": [],
   "source": [
    "def Regression(vars_list, dataframe=df):\n",
    "\n",
    "    dataframe = df[vars_list + ['RET']]\n",
    "    dataframe = dataframe.dropna().reset_index(drop=True)\n",
    "    y = dataframe['RET']\n",
    "    del dataframe['RET']\n",
    "    reg_list = []\n",
    "\n",
    "    X = dataframe\n",
    "    X = sm.add_constant(X)\n",
    "    model = sm.OLS(y, X).fit()\n",
    "    reg_list.append(model)\n",
    "    return reg_list"
   ]
  },
  {
   "cell_type": "code",
   "execution_count": 21,
   "metadata": {},
   "outputs": [],
   "source": [
    "reduced_regs = Regression(reduced_variables)\n",
    "full_regs = Regression(all_variables)"
   ]
  },
  {
   "cell_type": "code",
   "execution_count": 30,
   "metadata": {},
   "outputs": [],
   "source": [
    "all_regs = reduced_regs + full_regs\n",
    "tbl = Regtable(all_regs, stat='tstat', sig='coeff')\n",
    "df_coeffs = tbl.render()\n",
    "df_coeffs.columns = [\"Selected Variables\", \"All Variables\"]\n",
    "df_coeffs.to_csv(\"Data/OLS Coefficients.csv\")"
   ]
  },
  {
   "cell_type": "code",
   "execution_count": 49,
   "metadata": {},
   "outputs": [
    {
     "data": {
      "text/html": [
       "<div>\n",
       "<style scoped>\n",
       "    .dataframe tbody tr th:only-of-type {\n",
       "        vertical-align: middle;\n",
       "    }\n",
       "\n",
       "    .dataframe tbody tr th {\n",
       "        vertical-align: top;\n",
       "    }\n",
       "\n",
       "    .dataframe thead th {\n",
       "        text-align: right;\n",
       "    }\n",
       "</style>\n",
       "<table border=\"1\" class=\"dataframe\">\n",
       "  <thead>\n",
       "    <tr style=\"text-align: right;\">\n",
       "      <th></th>\n",
       "      <th>RET</th>\n",
       "    </tr>\n",
       "  </thead>\n",
       "  <tbody>\n",
       "    <tr>\n",
       "      <th>const</th>\n",
       "      <td>0.011***</td>\n",
       "    </tr>\n",
       "    <tr>\n",
       "      <th></th>\n",
       "      <td>(88.81)</td>\n",
       "    </tr>\n",
       "    <tr>\n",
       "      <th>Turnover</th>\n",
       "      <td>0.002***</td>\n",
       "    </tr>\n",
       "    <tr>\n",
       "      <th></th>\n",
       "      <td>(34.24)</td>\n",
       "    </tr>\n",
       "    <tr>\n",
       "      <th>cum_return_60_1</th>\n",
       "      <td>-0.000***</td>\n",
       "    </tr>\n",
       "    <tr>\n",
       "      <th></th>\n",
       "      <td>(-11.46)</td>\n",
       "    </tr>\n",
       "    <tr>\n",
       "      <th>Recession</th>\n",
       "      <td>0.027***</td>\n",
       "    </tr>\n",
       "    <tr>\n",
       "      <th></th>\n",
       "      <td>(56.70)</td>\n",
       "    </tr>\n",
       "    <tr>\n",
       "      <th>obs</th>\n",
       "      <td>1988636</td>\n",
       "    </tr>\n",
       "    <tr>\n",
       "      <th>Rsq</th>\n",
       "      <td>0.00</td>\n",
       "    </tr>\n",
       "  </tbody>\n",
       "</table>\n",
       "</div>"
      ],
      "text/plain": [
       "                       RET\n",
       "const             0.011***\n",
       "                   (88.81)\n",
       "Turnover          0.002***\n",
       "                   (34.24)\n",
       "cum_return_60_1  -0.000***\n",
       "                  (-11.46)\n",
       "Recession         0.027***\n",
       "                   (56.70)\n",
       "obs                1988636\n",
       "Rsq                   0.00"
      ]
     },
     "execution_count": 49,
     "metadata": {},
     "output_type": "execute_result"
    }
   ],
   "source": [
    "fun_vars = ['Turnover', 'cum_return_60_1', 'Recession']\n",
    "\n",
    "# The world economy has experienced four global recessions over the past seven decades: in 1975, 1982, 1991, and 2009.\n",
    "\n",
    "df['Recession'] = pd.DatetimeIndex(df['DATE']).year.isin([1975, 1982, 1991, 2009]) * 1\n",
    "\n",
    "model_list = Regression(fun_vars)\n",
    "\n",
    "fun_tbl = Regtable(model_list, stat='tstat', sig='coeff')\n",
    "fun_tbl.render()"
   ]
  },
  {
   "cell_type": "code",
   "execution_count": 72,
   "metadata": {},
   "outputs": [
    {
     "name": "stderr",
     "output_type": "stream",
     "text": [
      "/var/folders/vj/8t2xdhb577n2gr_0n_gppv480000gn/T/ipykernel_3451/3450286228.py:23: SettingWithCopyWarning: \n",
      "A value is trying to be set on a copy of a slice from a DataFrame\n",
      "\n",
      "See the caveats in the documentation: https://pandas.pydata.org/pandas-docs/stable/user_guide/indexing.html#returning-a-view-versus-a-copy\n",
      "  test.dropna(inplace=True)\n",
      "/var/folders/vj/8t2xdhb577n2gr_0n_gppv480000gn/T/ipykernel_3451/3450286228.py:25: SettingWithCopyWarning: \n",
      "A value is trying to be set on a copy of a slice from a DataFrame.\n",
      "Try using .loc[row_indexer,col_indexer] = value instead\n",
      "\n",
      "See the caveats in the documentation: https://pandas.pydata.org/pandas-docs/stable/user_guide/indexing.html#returning-a-view-versus-a-copy\n",
      "  test['diff'] = test['mom'] - test['cum_return_12_2']\n"
     ]
    },
    {
     "data": {
      "text/plain": [
       "<Axes: xlabel='DATE'>"
      ]
     },
     "execution_count": 72,
     "metadata": {},
     "output_type": "execute_result"
    },
    {
     "data": {
      "image/png": "[encoded data removed]",
      "text/plain": [
       "<Figure size 640x480 with 1 Axes>"
      ]
     },
     "metadata": {},
     "output_type": "display_data"
    }
   ],
   "source": [
    "# # For calculating momentum portfolios - ignore for now\n",
    "# warnings.simplefilter('ignore')\n",
    "# variables_of_interest = ['PERMNO', 'DATE', 'RET', 'beta', 'idio_vol', 'BEME']\n",
    "# subset = df[variables_of_interest]\n",
    "\n",
    "# # Calculate monthly returns\n",
    "# subset['MONTHYEAR'] = pd.DatetimeIndex(subset['DATE']).month.astype(str) + '-' + pd.DatetimeIndex(subset['DATE']).year.astype(str)\n",
    "# subset['monthly_ret'] = subset.groupby('MONTHYEAR')['RET'].mean()\n",
    "\n",
    "# monthly_data = subset.groupby(['MONTHYEAR', 'PERMNO'])[['RET', 'beta', 'idio_vol', 'BEME']].mean()\n",
    "# monthly_data['DATE'] = subset.groupby(['MONTHYEAR', 'PERMNO'])['DATE'].min()\n",
    "\n",
    "# monthly_data = monthly_data.reset_index()\n",
    "\n",
    "# # Calculate momentum\n",
    "df['logret'] = np.log(1 + df['RET'])\n",
    "df['mom'] = df.groupby('PERMNO')['logret'].rolling(11,11).sum().reset_index(drop=True) # First we create the momentum\n",
    "df['mom'] = df.groupby('PERMNO')['mom'].shift(2)\n",
    "\n",
    "# monthly_data = monthly_data.dropna().reset_index(drop=True)\n",
    "# monthly_data\n",
    "test = df[['DATE', 'mom', 'cum_return_12_2']]\n",
    "test.dropna(inplace=True)\n",
    "#test = test[:400]\n",
    "test['diff'] = test['mom'] - test['cum_return_12_2']\n",
    "fig, ax = plt.subplots(1,1)\n",
    "test.plot(y='mom', x='DATE', ax=ax)\n",
    "test.plot(y='cum_return_12_2', x='DATE', ax=ax)\n",
    "test.plot(y='diff', x='DATE', ax=ax)"
   ]
  },
  {
   "cell_type": "code",
   "execution_count": null,
   "metadata": {},
   "outputs": [],
   "source": [
    "from itertools import combinations\n",
    "\n",
    "def RobustnessCheck(dataframe: pd.DataFrame):\n",
    "\n",
    "    reg_list = []\n",
    "    vars_list = ['beta', 'idio_vol', 'BEME'] # If the data is monthly, we can use 'mom'\n",
    "\n",
    "    dataframe = dataframe[vars_list + ['RET']].dropna().reset_index(drop=True)\n",
    "\n",
    "    # Robustness check. The coefficients are pretty steady\n",
    "    for i in range(1, len(vars_list)+1):\n",
    "        for combo in combinations(vars_list, i):\n",
    "            X = dataframe[list(combo)]\n",
    "            X = sm.add_constant(X)\n",
    "            y = dataframe['RET']\n",
    "            model = sm.OLS(y, X).fit()\n",
    "            reg_list.append(model)\n",
    "    tbl = Regtable(reg_list,stat='tstat',sig='coeff')\n",
    "    return tbl\n",
    "\n",
    "tbl = RobustnessCheck(df)\n",
    "\n",
    "tbl.render()"
   ]
  },
  {
   "cell_type": "code",
   "execution_count": null,
   "metadata": {},
   "outputs": [],
   "source": [
    "tbl2 = RobustnessCheck(monthly_data)\n",
    "tbl2.render()"
   ]
  },
  {
   "cell_type": "code",
   "execution_count": null,
   "metadata": {},
   "outputs": [],
   "source": [
    "# Potential Sharpe Ratio function. Haven't debugged\n",
    "def SharpeRatio(returns: pd.Series):\n",
    "    # Note: This isn't exactly the Sharpe Ratio because we don't have the risk-free rate\n",
    "    return np.mean(returns) / np.std(returns)\n",
    "\n",
    "SharpeRatio(y)"
   ]
  },
  {
   "cell_type": "code",
   "execution_count": null,
   "metadata": {},
   "outputs": [],
   "source": []
  }
 ],
 "metadata": {
  "kernelspec": {
   "display_name": "Python 3",
   "language": "python",
   "name": "python3"
  },
  "language_info": {
   "codemirror_mode": {
    "name": "ipython",
    "version": 3
   },
   "file_extension": ".py",
   "mimetype": "text/x-python",
   "name": "python",
   "nbconvert_exporter": "python",
   "pygments_lexer": "ipython3",
   "version": "3.11.7"
  }
 },
 "nbformat": 4,
 "nbformat_minor": 2
}
