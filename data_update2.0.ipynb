{
 "cells": [
  {
   "cell_type": "code",
   "execution_count": 2,
   "metadata": {},
   "outputs": [],
   "source": [
    "import numpy as np\n",
    "import pandas as pd\n",
    "import statsmodels.api as sm\n",
    "from finance_byu.regtables import Regtable\n",
    "import warnings\n"
   ]
  },
  {
   "cell_type": "code",
   "execution_count": 3,
   "metadata": {},
   "outputs": [],
   "source": [
    "#Reads the Parquet into a df\n",
    "df = pd.read_parquet('Data/BoQ_Data.parquet')"
   ]
  },
  {
   "cell_type": "code",
   "execution_count": 4,
   "metadata": {},
   "outputs": [],
   "source": [
    "#This gives me a list of all the different dates in ascending order\n",
    "difDates = df[\"DATE\"].tolist()\n",
    "difDates= list(set(difDates))\n",
    "difDates.sort()"
   ]
  },
  {
   "cell_type": "code",
   "execution_count": 5,
   "metadata": {},
   "outputs": [
    {
     "name": "stdout",
     "output_type": "stream",
     "text": [
      "2009-06-30 00:00:00\n"
     ]
    }
   ],
   "source": [
    "print(difDates[653])"
   ]
  },
  {
   "cell_type": "code",
   "execution_count": 6,
   "metadata": {},
   "outputs": [],
   "source": [
    "#Sets the Vars you want to test\n",
    "vars_list = [\"prof\",\"roic\",\"BEME\",\"ME\",\"p1_mktrf_beta\"]"
   ]
  },
  {
   "cell_type": "code",
   "execution_count": 7,
   "metadata": {},
   "outputs": [
    {
     "name": "stdout",
     "output_type": "stream",
     "text": [
      "[Timestamp('1956-07-31 00:00:00'), Timestamp('1956-08-31 00:00:00'), Timestamp('1956-09-30 00:00:00'), Timestamp('1956-10-31 00:00:00'), Timestamp('1956-11-30 00:00:00'), Timestamp('1956-12-31 00:00:00'), Timestamp('1957-01-31 00:00:00'), Timestamp('1957-02-28 00:00:00'), Timestamp('1957-03-31 00:00:00'), Timestamp('1957-04-30 00:00:00')]\n"
     ]
    }
   ],
   "source": [
    "\n",
    "#Generates a set of lists that have values you can test. For EX, some of the early dates don't have all the vars youll want and because we drop nan they wont work\n",
    "works = []\n",
    "noworks = []\n",
    "for date in difDates:\n",
    "    Datedf = df[(df[\"DATE\"] == date)]\n",
    "    dataframe = Datedf[vars_list + ['RET']]\n",
    "    dataframe = dataframe.dropna().reset_index(drop=True)\n",
    "    if len(dataframe) == 0:\n",
    "        noworks.append(date)\n",
    "    else:\n",
    "        works.append(date)\n",
    "\n",
    "#Helps you see the frist date you can start testing\n",
    "print(works[0:10])\n",
    "\n",
    "#This is the start and end date that works\n",
    "startnend = (works[0],works[-1])\n",
    "\n",
    "#Change them to a tuple so we can quickly and effeciently check if a date is in\n",
    "works = tuple(works)\n",
    "noworks = tuple(noworks)"
   ]
  },
  {
   "cell_type": "code",
   "execution_count": 17,
   "metadata": {},
   "outputs": [],
   "source": [
    "#Creates a new row representing the RET for the next month represented by RET_MONTH\n",
    "df['RET_MONTH'] = df['RET'].shift(-1)      \n",
    "\n",
    "#This iterates through every row and removes the last RET_MONTH for every company, otherwise it will take the data of the first month from the next company\n",
    "for i in range(df.shape[0]-1):\n",
    "     if df.iloc[i, df.columns.get_loc(\"PERMNO\")] != df.iloc[i + 1, df.columns.get_loc(\"PERMNO\")]:\n",
    "        df.at[i, \"RET_MONTH\"] = np.nan\n",
    "\n",
    "df.at[df.shape[0], \"RET_MONTH\"] = np.nan"
   ]
  },
  {
   "cell_type": "code",
   "execution_count": 18,
   "metadata": {},
   "outputs": [],
   "source": [
    "#Saves this to a df of your choosing\n",
    "df.to_parquet('updated_BOQ_data.parquet')"
   ]
  },
  {
   "cell_type": "code",
   "execution_count": 8,
   "metadata": {},
   "outputs": [],
   "source": [
    "dfupdate = pd.read_parquet('updated_BOQ_data.parquet')"
   ]
  },
  {
   "cell_type": "code",
   "execution_count": 3,
   "metadata": {},
   "outputs": [
    {
     "ename": "ModuleNotFoundError",
     "evalue": "No module named 'format_data'",
     "output_type": "error",
     "traceback": [
      "\u001b[1;31m---------------------------------------------------------------------------\u001b[0m",
      "\u001b[1;31mModuleNotFoundError\u001b[0m                       Traceback (most recent call last)",
      "Cell \u001b[1;32mIn[3], line 2\u001b[0m\n\u001b[0;32m      1\u001b[0m \u001b[38;5;28;01mimport\u001b[39;00m \u001b[38;5;21;01mimport_ipynb\u001b[39;00m\n\u001b[1;32m----> 2\u001b[0m \u001b[38;5;28;01mimport\u001b[39;00m \u001b[38;5;21;01mformat_data\u001b[39;00m\n",
      "\u001b[1;31mModuleNotFoundError\u001b[0m: No module named 'format_data'"
     ]
    }
   ],
   "source": [
    "import import_ipynb\n",
    "import format_data"
   ]
  },
  {
   "cell_type": "code",
   "execution_count": 20,
   "metadata": {},
   "outputs": [],
   "source": [
    "#This gives me the regression of just 1 month\n",
    "def Month_Regression(vars_list,month):\n",
    "    #Check to make sure that regresion can be performed\n",
    "    if month in noworks:\n",
    "        print(\"NOT VALID MONTH\")\n",
    "        return 0\n",
    "    \n",
    "    #This grabs the data from the requested month\n",
    "    Datedf = dfupdate[(dfupdate[\"DATE\"] == month)]\n",
    "    dataframe = Datedf[vars_list + ['RET_MONTH']]\n",
    "    dataframe = dataframe.dropna().reset_index(drop=True)\n",
    "    \n",
    "    #We set our y to be the return of next month\n",
    "    y = dataframe['RET_MONTH']\n",
    "    del dataframe['RET_MONTH']\n",
    "    reg_list = []\n",
    "\n",
    "    #we set our x to be our desires variables\n",
    "    X = dataframe\n",
    "    X = sm.add_constant(X)\n",
    "\n",
    "    #we make the regression \n",
    "    model = sm.OLS(y, X).fit()\n",
    "    reg_list.append(model)\n",
    "    #tbl = Regtable(reg_list,stat='tstat',sig='coeff')\n",
    "    return reg_list"
   ]
  },
  {
   "cell_type": "code",
   "execution_count": 21,
   "metadata": {},
   "outputs": [],
   "source": [
    "#This takes in a regression and titlle and spits out an exel file\n",
    "def display(reg, title, filename):\n",
    "    tbl = Regtable(reg, stat='tstat', sig='coeff')\n",
    "    df_coeffs = tbl.render()\n",
    "    df_coeffs.columns = [title]\n",
    "    df_coeffs.to_excel(filename)"
   ]
  },
  {
   "cell_type": "code",
   "execution_count": 22,
   "metadata": {},
   "outputs": [
    {
     "name": "stdout",
     "output_type": "stream",
     "text": [
      "629\n"
     ]
    }
   ],
   "source": [
    "\n",
    "#This performs the regression from month to month\n",
    "regression = Month_Regression(vars_list,difDates[199])\n",
    "title = ['199']\n",
    "for i in range(200,len(difDates)):\n",
    "    reg = Month_Regression(vars_list,difDates[i])\n",
    "    regression += reg\n",
    "    title.append(i)\n",
    "\n",
    "#How many months\n",
    "print(len(title))"
   ]
  },
  {
   "cell_type": "code",
   "execution_count": 23,
   "metadata": {},
   "outputs": [],
   "source": [
    "def reg_of_months(start, end, vars_list):\n",
    "    #This finds the start and end index of the dates in the difDates var\n",
    "    stindex = -1\n",
    "    enindex = -1\n",
    "    \n",
    "    i = 0\n",
    "    while stindex == -1:\n",
    "        if difDates[i] == start:\n",
    "            stindex = i\n",
    "        else:\n",
    "            i += 1\n",
    "\n",
    "    while enindex == -1:\n",
    "        if difDates[i] == end:\n",
    "            enindex = i\n",
    "        else:\n",
    "            i += 1\n",
    "\n",
    "    #performs the regression    \n",
    "    regression = Month_Regression(vars_list,difDates[stindex])\n",
    "    title = [stindex]\n",
    "    for i in range(stindex+1,enindex+1):\n",
    "        reg = Month_Regression(vars_list,difDates[i])\n",
    "        regression += reg\n",
    "        title.append(i)\n",
    "\n",
    "    return regression, title\n",
    "    "
   ]
  },
  {
   "cell_type": "code",
   "execution_count": 24,
   "metadata": {},
   "outputs": [
    {
     "name": "stdout",
     "output_type": "stream",
     "text": [
      "(Timestamp('1956-07-31 00:00:00'), Timestamp('2023-12-31 00:00:00'))\n"
     ]
    }
   ],
   "source": [
    "print(startnend)"
   ]
  },
  {
   "cell_type": "code",
   "execution_count": 25,
   "metadata": {},
   "outputs": [],
   "source": [
    "#This gives me the reg of all months over time\n",
    "reg, til = reg_of_months(startnend[0], startnend[1],vars_list)"
   ]
  },
  {
   "cell_type": "code",
   "execution_count": 26,
   "metadata": {},
   "outputs": [],
   "source": [
    "#This transfers it to a Excel\n",
    "display(reg, til,'all_time.xlsx')"
   ]
  },
  {
   "cell_type": "code",
   "execution_count": 27,
   "metadata": {},
   "outputs": [],
   "source": [
    "#This is a data frame showing all of the coefficents over time\n",
    "\n",
    "tbl = Regtable(reg, stat='tstat', sig='coeff')\n",
    "coeff_view = tbl.get_coefficients()\n",
    "coeff_view = coeff_view.T\n"
   ]
  },
  {
   "cell_type": "code",
   "execution_count": 36,
   "metadata": {},
   "outputs": [],
   "source": [
    "#Does the same thing but just from 1/21 on\n",
    "reg1, til1 = reg_of_months(difDates[653], startnend[1],vars_list)\n",
    "\n",
    "tbl1 = Regtable(reg1, stat='tstat', sig='coeff')\n",
    "coeff_view1 = tbl1.get_coefficients()\n",
    "coeff_view1 = coeff_view1.T"
   ]
  }
 ],
 "metadata": {
  "kernelspec": {
   "display_name": "Python 3",
   "language": "python",
   "name": "python3"
  },
  "language_info": {
   "codemirror_mode": {
    "name": "ipython",
    "version": 3
   },
   "file_extension": ".py",
   "mimetype": "text/x-python",
   "name": "python",
   "nbconvert_exporter": "python",
   "pygments_lexer": "ipython3",
   "version": "3.12.3"
  }
 },
 "nbformat": 4,
 "nbformat_minor": 2
}
