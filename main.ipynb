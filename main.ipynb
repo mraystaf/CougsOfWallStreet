{
 "cells": [
  {
   "cell_type": "code",
   "execution_count": 1,
   "metadata": {},
   "outputs": [
    {
     "name": "stdout",
     "output_type": "stream",
     "text": [
      "importing Jupyter notebook from format_data.ipynb\n",
      "importing Jupyter notebook from bin_portfolio.ipynb\n",
      "importing Jupyter notebook from sharpe_ratio.ipynb\n",
      "importing Jupyter notebook from data_update_michael.ipynb\n"
     ]
    }
   ],
   "source": [
    "# import statements\n",
    "import import_ipynb\n",
    "import numpy as np\n",
    "import pandas as pd\n",
    "from format_data import LoadAndFormatData\n",
    "from bin_portfolio import BinPortfolio\n",
    "from sharpe_ratio import SharpeRatio\n",
    "from data_update_michael import FindCoefficients\n",
    "import tqdm"
   ]
  },
  {
   "cell_type": "code",
   "execution_count": 2,
   "metadata": {},
   "outputs": [
    {
     "data": {
      "text/html": [
       "<div>\n",
       "<style scoped>\n",
       "    .dataframe tbody tr th:only-of-type {\n",
       "        vertical-align: middle;\n",
       "    }\n",
       "\n",
       "    .dataframe tbody tr th {\n",
       "        vertical-align: top;\n",
       "    }\n",
       "\n",
       "    .dataframe thead th {\n",
       "        text-align: right;\n",
       "    }\n",
       "</style>\n",
       "<table border=\"1\" class=\"dataframe\">\n",
       "  <thead>\n",
       "    <tr style=\"text-align: right;\">\n",
       "      <th></th>\n",
       "      <th>A2ME</th>\n",
       "      <th>BEME</th>\n",
       "      <th>BEME_adj</th>\n",
       "      <th>BEME_ind</th>\n",
       "      <th>CEI</th>\n",
       "      <th>DATE</th>\n",
       "      <th>DEC_ME</th>\n",
       "      <th>DEC_SHROUT</th>\n",
       "      <th>Div</th>\n",
       "      <th>Div_ann</th>\n",
       "      <th>...</th>\n",
       "      <th>sale_ind</th>\n",
       "      <th>sales_g</th>\n",
       "      <th>sga2s</th>\n",
       "      <th>spread_mean</th>\n",
       "      <th>std_turn</th>\n",
       "      <th>std_vol</th>\n",
       "      <th>suv</th>\n",
       "      <th>RET_t+1</th>\n",
       "      <th>PRC_t+1</th>\n",
       "      <th>mkt</th>\n",
       "    </tr>\n",
       "  </thead>\n",
       "  <tbody>\n",
       "    <tr>\n",
       "      <th>0</th>\n",
       "      <td>NaN</td>\n",
       "      <td>NaN</td>\n",
       "      <td>NaN</td>\n",
       "      <td>0.824752</td>\n",
       "      <td>NaN</td>\n",
       "      <td>1986-01-31</td>\n",
       "      <td>NaN</td>\n",
       "      <td>NaN</td>\n",
       "      <td>NaN</td>\n",
       "      <td>NaN</td>\n",
       "      <td>...</td>\n",
       "      <td>NaN</td>\n",
       "      <td>NaN</td>\n",
       "      <td>NaN</td>\n",
       "      <td>NaN</td>\n",
       "      <td>NaN</td>\n",
       "      <td>NaN</td>\n",
       "      <td>NaN</td>\n",
       "      <td>-0.257143</td>\n",
       "      <td>3.250000</td>\n",
       "      <td>0.009116</td>\n",
       "    </tr>\n",
       "    <tr>\n",
       "      <th>1</th>\n",
       "      <td>NaN</td>\n",
       "      <td>NaN</td>\n",
       "      <td>NaN</td>\n",
       "      <td>0.825905</td>\n",
       "      <td>NaN</td>\n",
       "      <td>1986-02-28</td>\n",
       "      <td>NaN</td>\n",
       "      <td>NaN</td>\n",
       "      <td>0.0</td>\n",
       "      <td>NaN</td>\n",
       "      <td>...</td>\n",
       "      <td>NaN</td>\n",
       "      <td>NaN</td>\n",
       "      <td>NaN</td>\n",
       "      <td>0.076998</td>\n",
       "      <td>0.212080</td>\n",
       "      <td>7804.560824</td>\n",
       "      <td>NaN</td>\n",
       "      <td>0.365385</td>\n",
       "      <td>4.437500</td>\n",
       "      <td>0.009116</td>\n",
       "    </tr>\n",
       "    <tr>\n",
       "      <th>2</th>\n",
       "      <td>NaN</td>\n",
       "      <td>NaN</td>\n",
       "      <td>NaN</td>\n",
       "      <td>0.825905</td>\n",
       "      <td>NaN</td>\n",
       "      <td>1986-03-31</td>\n",
       "      <td>NaN</td>\n",
       "      <td>NaN</td>\n",
       "      <td>0.0</td>\n",
       "      <td>NaN</td>\n",
       "      <td>...</td>\n",
       "      <td>NaN</td>\n",
       "      <td>NaN</td>\n",
       "      <td>NaN</td>\n",
       "      <td>0.055511</td>\n",
       "      <td>0.107977</td>\n",
       "      <td>3973.567637</td>\n",
       "      <td>-0.363314</td>\n",
       "      <td>-0.098592</td>\n",
       "      <td>4.000000</td>\n",
       "      <td>0.009116</td>\n",
       "    </tr>\n",
       "    <tr>\n",
       "      <th>3</th>\n",
       "      <td>NaN</td>\n",
       "      <td>NaN</td>\n",
       "      <td>NaN</td>\n",
       "      <td>0.825015</td>\n",
       "      <td>NaN</td>\n",
       "      <td>1986-04-30</td>\n",
       "      <td>NaN</td>\n",
       "      <td>NaN</td>\n",
       "      <td>0.0</td>\n",
       "      <td>NaN</td>\n",
       "      <td>...</td>\n",
       "      <td>NaN</td>\n",
       "      <td>NaN</td>\n",
       "      <td>NaN</td>\n",
       "      <td>0.037231</td>\n",
       "      <td>0.174533</td>\n",
       "      <td>6422.825870</td>\n",
       "      <td>-0.571056</td>\n",
       "      <td>-0.222656</td>\n",
       "      <td>3.109375</td>\n",
       "      <td>0.009116</td>\n",
       "    </tr>\n",
       "    <tr>\n",
       "      <th>4</th>\n",
       "      <td>NaN</td>\n",
       "      <td>NaN</td>\n",
       "      <td>NaN</td>\n",
       "      <td>0.824672</td>\n",
       "      <td>NaN</td>\n",
       "      <td>1986-05-31</td>\n",
       "      <td>NaN</td>\n",
       "      <td>NaN</td>\n",
       "      <td>0.0</td>\n",
       "      <td>NaN</td>\n",
       "      <td>...</td>\n",
       "      <td>NaN</td>\n",
       "      <td>NaN</td>\n",
       "      <td>NaN</td>\n",
       "      <td>0.048336</td>\n",
       "      <td>0.150228</td>\n",
       "      <td>5527.502665</td>\n",
       "      <td>-0.708679</td>\n",
       "      <td>-0.005025</td>\n",
       "      <td>3.093750</td>\n",
       "      <td>0.009116</td>\n",
       "    </tr>\n",
       "  </tbody>\n",
       "</table>\n",
       "<p>5 rows × 88 columns</p>\n",
       "</div>"
      ],
      "text/plain": [
       "   A2ME  BEME  BEME_adj  BEME_ind  CEI       DATE  DEC_ME  DEC_SHROUT  Div  \\\n",
       "0   NaN   NaN       NaN  0.824752  NaN 1986-01-31     NaN         NaN  NaN   \n",
       "1   NaN   NaN       NaN  0.825905  NaN 1986-02-28     NaN         NaN  0.0   \n",
       "2   NaN   NaN       NaN  0.825905  NaN 1986-03-31     NaN         NaN  0.0   \n",
       "3   NaN   NaN       NaN  0.825015  NaN 1986-04-30     NaN         NaN  0.0   \n",
       "4   NaN   NaN       NaN  0.824672  NaN 1986-05-31     NaN         NaN  0.0   \n",
       "\n",
       "   Div_ann  ...  sale_ind  sales_g  sga2s  spread_mean  std_turn      std_vol  \\\n",
       "0      NaN  ...       NaN      NaN    NaN          NaN       NaN          NaN   \n",
       "1      NaN  ...       NaN      NaN    NaN     0.076998  0.212080  7804.560824   \n",
       "2      NaN  ...       NaN      NaN    NaN     0.055511  0.107977  3973.567637   \n",
       "3      NaN  ...       NaN      NaN    NaN     0.037231  0.174533  6422.825870   \n",
       "4      NaN  ...       NaN      NaN    NaN     0.048336  0.150228  5527.502665   \n",
       "\n",
       "        suv   RET_t+1   PRC_t+1       mkt  \n",
       "0       NaN -0.257143  3.250000  0.009116  \n",
       "1       NaN  0.365385  4.437500  0.009116  \n",
       "2 -0.363314 -0.098592  4.000000  0.009116  \n",
       "3 -0.571056 -0.222656  3.109375  0.009116  \n",
       "4 -0.708679 -0.005025  3.093750  0.009116  \n",
       "\n",
       "[5 rows x 88 columns]"
      ]
     },
     "execution_count": 2,
     "metadata": {},
     "output_type": "execute_result"
    }
   ],
   "source": [
    "# Load and modify the data\n",
    "df = LoadAndFormatData()\n",
    "df.head()"
   ]
  },
  {
   "cell_type": "code",
   "execution_count": 3,
   "metadata": {},
   "outputs": [
    {
     "name": "stderr",
     "output_type": "stream",
     "text": [
      "100%|██████████| 828/828 [01:15<00:00, 11.01it/s]\n"
     ]
    }
   ],
   "source": [
    "dependent_var = ['RET']\n",
    "regressors = ['mkt', 'roic', 'BEME', 'ME']\n",
    "all_dataframe_vars = regressors + dependent_var + ['DATE', 'PERMNO', 'RET_t+1', 'PRC', 'PRC_t+1']\n",
    "# NOTE: RET is used to find coefficients, RET_t+1 is used to evaluate the portfolio's success\n",
    "\n",
    "sharpe_ratios = []\n",
    "dates_with_data = []\n",
    "pnl_curves = []\n",
    "\n",
    "for month in tqdm.tqdm(sorted(df['DATE'].unique())):\n",
    "    # Obtain the data for the month, dropping any rows with missing values in our selected variables\n",
    "    currentData = df[df['DATE'] == month]\n",
    "    currentData = currentData[all_dataframe_vars]\n",
    "    currentData = currentData.dropna()\n",
    "    if len(currentData.index) == 0:\n",
    "        continue\n",
    "    # Find the correct coefficients\n",
    "    go_long = FindCoefficients(dataframe=currentData, regressors=regressors)\n",
    "    # NOTE: This finds the coefficients for the t-th time period. \n",
    "    # Forming the portfolio on this would be assuming that the relationship for the next time period will be similar to the one for this time period.\n",
    "\n",
    "    # Form the portfolio\n",
    "    portfolio = BinPortfolio(dataframe=currentData, all_dataframe_vars=all_dataframe_vars, vars_to_bin=regressors, go_long=go_long)\n",
    "    dates_with_data.append(month)\n",
    "    # Calculate the Sharpe Ratio. These are calculated based on RET_t+1\n",
    "    sharpe_ratios.append(SharpeRatio(portfolio=portfolio, df=df, rf=0))\n",
    "\n",
    "    # Calculate the pnl curve. TODO\n",
    "    pnl_curves.append(1)\n"
   ]
  },
  {
   "cell_type": "code",
   "execution_count": 4,
   "metadata": {},
   "outputs": [
    {
     "data": {
      "text/plain": [
       "<Axes: >"
      ]
     },
     "execution_count": 4,
     "metadata": {},
     "output_type": "execute_result"
    },
    {
     "data": {
      "image/png": "[encoded data removed]",
      "text/plain": [
       "<Figure size 640x480 with 1 Axes>"
      ]
     },
     "metadata": {},
     "output_type": "display_data"
    }
   ],
   "source": [
    "sharpes = pd.Series(sharpe_ratios, index=dates_with_data)\n",
    "sharpes.plot()"
   ]
  },
  {
   "cell_type": "code",
   "execution_count": 5,
   "metadata": {},
   "outputs": [
    {
     "data": {
      "text/plain": [
       "0.366951344963902"
      ]
     },
     "execution_count": 5,
     "metadata": {},
     "output_type": "execute_result"
    }
   ],
   "source": [
    "np.mean(sharpe_ratios)"
   ]
  },
  {
   "cell_type": "code",
   "execution_count": null,
   "metadata": {},
   "outputs": [],
   "source": []
  }
 ],
 "metadata": {
  "kernelspec": {
   "display_name": "Python 3",
   "language": "python",
   "name": "python3"
  },
  "language_info": {
   "codemirror_mode": {
    "name": "ipython",
    "version": 3
   },
   "file_extension": ".py",
   "mimetype": "text/x-python",
   "name": "python",
   "nbconvert_exporter": "python",
   "pygments_lexer": "ipython3",
   "version": "3.11.7"
  }
 },
 "nbformat": 4,
 "nbformat_minor": 2
}
