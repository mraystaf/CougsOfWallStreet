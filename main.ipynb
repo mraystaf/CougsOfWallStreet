{
 "cells": [
  {
   "cell_type": "code",
   "execution_count": 3,
   "metadata": {},
   "outputs": [
    {
     "ename": "ModuleNotFoundError",
     "evalue": "No module named 'format_data'",
     "output_type": "error",
     "traceback": [
      "\u001b[1;31m---------------------------------------------------------------------------\u001b[0m",
      "\u001b[1;31mModuleNotFoundError\u001b[0m                       Traceback (most recent call last)",
      "Cell \u001b[1;32mIn[3], line 6\u001b[0m\n\u001b[0;32m      4\u001b[0m \u001b[38;5;28;01mimport\u001b[39;00m \u001b[38;5;21;01mpandas\u001b[39;00m \u001b[38;5;28;01mas\u001b[39;00m \u001b[38;5;21;01mpd\u001b[39;00m\n\u001b[0;32m      5\u001b[0m \u001b[38;5;28;01mfrom\u001b[39;00m \u001b[38;5;21;01mmatplotlib\u001b[39;00m \u001b[38;5;28;01mimport\u001b[39;00m pyplot \u001b[38;5;28;01mas\u001b[39;00m plt\n\u001b[1;32m----> 6\u001b[0m \u001b[38;5;28;01mfrom\u001b[39;00m \u001b[38;5;21;01mformat_data\u001b[39;00m \u001b[38;5;28;01mimport\u001b[39;00m LoadAndFormatData\n\u001b[0;32m      7\u001b[0m \u001b[38;5;28;01mfrom\u001b[39;00m \u001b[38;5;21;01mbin_portfolio\u001b[39;00m \u001b[38;5;28;01mimport\u001b[39;00m BinPortfolio\n\u001b[0;32m      8\u001b[0m \u001b[38;5;28;01mfrom\u001b[39;00m \u001b[38;5;21;01msharpe_ratio\u001b[39;00m \u001b[38;5;28;01mimport\u001b[39;00m SharpeRatio\n",
      "\u001b[1;31mModuleNotFoundError\u001b[0m: No module named 'format_data'"
     ]
    }
   ],
   "source": [
    "# import statements\n",
    "import import_ipynb\n",
    "import numpy as np\n",
    "import pandas as pd\n",
    "from matplotlib import pyplot as plt\n",
    "from format_data import LoadAndFormatData\n",
    "from bin_portfolio import BinPortfolio\n",
    "from sharpe_ratio import SharpeRatio\n",
    "from data_update_michael import FindCoefficients\n",
    "import tqdm"
   ]
  },
  {
   "cell_type": "code",
   "execution_count": null,
   "metadata": {},
   "outputs": [],
   "source": [
    "#Generates the Profit and Loss of a specific month using an investment, portfolio, and subset of data for a date\n",
    "def generate_PnL(portfolio,subset,invest):\n",
    "    pnl = 0\n",
    "    #Gets the PERMNOs of companies of the bin in a list\n",
    "    PERMNO = portfolio[\"PERMNO\"].to_list()\n",
    "\n",
    "    #Divides the investment easily between stocks\n",
    "    moneyPerStock = invest/len(PERMNO)\n",
    "    \n",
    "    for company in PERMNO:\n",
    "        #Gets the buy price and next month sell price of a stock\n",
    "        buyPrc = subset.loc[subset['PERMNO'] == company, 'PRC'].values\n",
    "        sellPrc = subset.loc[subset['PERMNO'] == company, 'PRC_t+1'].values\n",
    "        #Generates the stockreturn plus intial amount invested\n",
    "        pnl += moneyPerStock*(sellPrc/buyPrc)\n",
    "\n",
    "\n",
    "    #REMOVE THIS BEFORE SUBMISSION, TESTS IF THERE IS NANS TODO\n",
    "    if pd.isna(pnl):\n",
    "        print(\"RACA YOU FOOL\")\n",
    "        for item in PERMNO:\n",
    "            buyPrc = subset.loc[subset['PERMNO'] == item, 'PRC'].values\n",
    "            sellPrc = subset.loc[subset['PERMNO'] == item, 'PRC_t+1'].values\n",
    "            print(buyPrc, sellPrc)\n",
    "        print('\\n')\n",
    "    return pnl"
   ]
  },
  {
   "cell_type": "code",
   "execution_count": null,
   "metadata": {},
   "outputs": [],
   "source": [
    "# Load and modify the data according to our function\n",
    "df = LoadAndFormatData()\n",
    "df.head()"
   ]
  },
  {
   "cell_type": "code",
   "execution_count": null,
   "metadata": {},
   "outputs": [],
   "source": [
    "dependent_var = ['RET']\n",
    "regressors = ['mkt', 'roic', 'BEME', 'ME']\n",
    "all_dataframe_vars = regressors + dependent_var + ['DATE', 'PERMNO', 'RET_t+1', 'PRC', 'PRC_t+1']\n",
    "# NOTE: RET is used to find coefficients, RET_t+1 is used to evaluate the portfolio's success\n",
    "\n",
    "sharpe_ratios = []\n",
    "dates_with_data = []\n",
    "pnl_curves = []\n",
    "intial_investment = 100\n",
    "sum = intial_investment\n",
    "\n",
    "for month in tqdm.tqdm(sorted(df['DATE'].unique())):\n",
    "    # Obtain the data for the month, dropping any rows with missing values in our selected variables\n",
    "    currentData = df[df['DATE'] == month]\n",
    "    currentData = currentData[all_dataframe_vars]\n",
    "    currentData = currentData.dropna()\n",
    "    #Checks if a data frame is empty, dropping it because it would unusable\n",
    "    if len(currentData.index) == 0:\n",
    "        continue\n",
    "    # Find the correct coefficients for OLS for our regressor variables\n",
    "    go_long = FindCoefficients(dataframe=currentData, regressors=regressors)\n",
    "    # NOTE: This finds the coefficients for the t-th time period. \n",
    "    # Forming the portfolio on this would be assuming that the relationship for the next time period will be similar to the one for this time period.\n",
    "\n",
    "    # Form the portfolio using the data frame for the current month, selected variables, and OLS coeffiencts that were calculated\n",
    "    portfolio = BinPortfolio(dataframe=currentData, all_dataframe_vars=all_dataframe_vars, vars_to_bin=regressors, go_long=go_long)\n",
    "    #save the dates with performed data\n",
    "    dates_with_data.append(month)\n",
    "    # Calculate the Sharpe Ratio. These are calculated based on RET_t+1\n",
    "    sharpe_ratios.append(SharpeRatio(portfolio=portfolio, df=df, rf=0))\n",
    "\n",
    "    # Calculate the pnl curve using stocks from the bin and assuming that equal money is spent on each stock and the stock is sold at the end of the month TODO\n",
    "    sum = generate_PnL(portfolio=portfolio, subset=currentData, invest=sum)\n",
    "    pnl_curves.append(sum - 100)\n"
   ]
  },
  {
   "cell_type": "code",
   "execution_count": null,
   "metadata": {},
   "outputs": [],
   "source": [
    "sharpes = pd.Series(sharpe_ratios, index=dates_with_data)\n",
    "sharpes.plot()"
   ]
  },
  {
   "cell_type": "code",
   "execution_count": null,
   "metadata": {},
   "outputs": [],
   "source": [
    "np.mean(sharpes)"
   ]
  },
  {
   "cell_type": "code",
   "execution_count": null,
   "metadata": {},
   "outputs": [],
   "source": [
    "#This plots the Pnl over 4 time periods (all time, 2000-present, 2010-2019, 2020-present)\n",
    "fig, axs = plt.subplots(2, 2)\n",
    "# y0, y1 = 1e-12,5e-1\n",
    "\n",
    "axs[0,0].set_title('Pnl of All Time') \n",
    "axs[0,0].semilogy(dates_with_data, pnl_curves)\n",
    "axs[0,0].grid()\n",
    "\n",
    "axs[0,1].set_title('Pnl of 2000-Present') \n",
    "axs[0,1].semilogy(dates_with_data, pnl_curves)\n",
    "axs[0,1].grid()\n",
    "\n",
    "axs[1,0].set_title('Pnl of 2010-2019') \n",
    "axs[1,0].semilogy(dates_with_data, pnl_curves)\n",
    "axs[1,0].grid()\n",
    "\n",
    "axs[1,1].set_title('Pnl of 2020-Present') \n",
    "axs[1,1].semilogy(dates_with_data, pnl_curves)\n",
    "axs[1,1].grid()\n",
    "\n",
    "\n",
    "for ax in axs.flat:\n",
    "    ax.set(xlabel='Dates', ylabel='Profit and Loss')\n",
    "fig.tight_layout()\n",
    "plt.show()"
   ]
  }
 ],
 "metadata": {
  "kernelspec": {
   "display_name": "Python 3",
   "language": "python",
   "name": "python3"
  },
  "language_info": {
   "codemirror_mode": {
    "name": "ipython",
    "version": 3
   },
   "file_extension": ".py",
   "mimetype": "text/x-python",
   "name": "python",
   "nbconvert_exporter": "python",
   "pygments_lexer": "ipython3",
   "version": "3.11.7"
  }
 },
 "nbformat": 4,
 "nbformat_minor": 2
}
