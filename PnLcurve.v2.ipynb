{
 "cells": [
  {
   "cell_type": "code",
   "execution_count": 1,
   "metadata": {},
   "outputs": [],
   "source": [
    "# import statements\n",
    "import import_ipynb\n",
    "import pandas as pd"
   ]
  },
  {
   "cell_type": "code",
   "execution_count": 2,
   "metadata": {},
   "outputs": [],
   "source": [
    "def LoadAndFormatData(date_to_begin=None):\n",
    "\n",
    "    # Load data into pandas dataframe\n",
    "    df = pd.read_parquet('Data/BoQ_Data.parquet')\n",
    "    df['DATE'] = pd.to_datetime(df['DATE'])\n",
    "    if date_to_begin is not None:\n",
    "        date_to_begin = pd.to_datetime(date_to_begin)\n",
    "        df = df[df['DATE'] >= date_to_begin]\n",
    "\n",
    "    def AddMarketReturn(dataframe):\n",
    "        \"\"\"Adds a market return variable (mkt) to the dataframe\"\"\"\n",
    "\n",
    "        # Define a function to calculate the weighted mean return\n",
    "        def weighted_mean(group):\n",
    "            return (group['RET'] * group['ME']).sum() / group['ME'].sum()\n",
    "\n",
    "        # Group by 'year' and apply the weighted mean to each group\n",
    "        dataframe['mkt'] = dataframe.groupby('DATE').apply(\n",
    "            lambda group: pd.Series(weighted_mean(group), index=group.index)\n",
    "        ).reset_index(drop=True)\n",
    "\n",
    "        return dataframe\n",
    "    \n",
    "    df['RET_t+1'] = df.groupby(\"PERMNO\")['RET'].shift(-1)\n",
    "    df['PRC_t+1'] = df.groupby(\"PERMNO\")['PRC'].shift(-1)\n",
    "    \n",
    "    df = AddMarketReturn(df)\n",
    "    return df"
   ]
  },
  {
   "cell_type": "code",
   "execution_count": 3,
   "metadata": {},
   "outputs": [],
   "source": [
    "def Bin_Portfolio(dataframe, vars_to_bin=['mkt'], go_long=[True], number_of_bins=5):\n",
    "    \"\"\"Parameters: \n",
    "        - vars_to_bin (list<string>): A list of variables around which binning should take place\n",
    "        - coeff_signs (list[1 or -1]): A list indicating whether to go high or low in each bin\n",
    "        - df (pd.Dataframe): a dataframe containing all of the necessary data.\n",
    "        Returns:\n",
    "        - portfolio: a dataframe containing stocks to go long in.\n",
    "        - average return: the return of the portfolio (assuming equal weights)\n",
    "    \"\"\"\n",
    "\n",
    "    if len(go_long) != len(vars_to_bin):\n",
    "        raise ValueError(f\"The length of go_long needs to be the same as the length of vars_to_bin. {len(go_long)} != {len(vars_to_bin)}\")\n",
    "\n",
    "    # Find the subset of the dataframe that we care about\n",
    "    df = dataframe[['PERMNO', 'DATE', \"PRC_t+1\"] + vars_to_bin]\n",
    "    df = df.dropna()\n",
    "    df = df.reset_index(drop=True)\n",
    "\n",
    "    bin_names = []\n",
    "    best_bins = []\n",
    "    for i, bin_var in enumerate(vars_to_bin):\n",
    "        column_name = f\"{bin_var}_bins\"\n",
    "        bin_names.append(column_name)\n",
    "\n",
    "        if len(df.index) <= 1:\n",
    "            raise ValueError(\"There are not enough stocks that satisfy the given requirements\")\n",
    "        df[column_name] = pd.qcut(df[bin_var],number_of_bins,labels=False)\n",
    "\n",
    "        # Based on go_long, take the highest or lowest bin\n",
    "\n",
    "        best_bin = number_of_bins - 1 if go_long[i] else 0\n",
    "\n",
    "        df = df[df[column_name] == best_bin]\n",
    "\n",
    "        # Delete the bin column name\n",
    "        del df[column_name]\n",
    "\n",
    "        best_bins.append(best_bin)\n",
    "\n",
    "    # NOTE: This port stuff can be useful to visualize if there's only to variables to bin\n",
    "    #port = df.groupby(bin_names)['RET'].mean()*100\n",
    "    #port = port.unstack(level=bin_names[-1])\n",
    "    df = df.reset_index(drop=True)\n",
    "\n",
    "    return df"
   ]
  },
  {
   "cell_type": "code",
   "execution_count": null,
   "metadata": {},
   "outputs": [],
   "source": [
    "df = LoadAndFormatData()"
   ]
  },
  {
   "cell_type": "code",
   "execution_count": 78,
   "metadata": {},
   "outputs": [],
   "source": [
    "#This adds a price for the next time so I can use it\n",
    "# df['PRC_t+1'] = df.groupby(\"PERMNO\")['PRC'].shift(-1)"
   ]
  },
  {
   "cell_type": "code",
   "execution_count": 79,
   "metadata": {},
   "outputs": [],
   "source": [
    "subset = df[df['DATE'] == '2021-01-31']"
   ]
  },
  {
   "cell_type": "code",
   "execution_count": 80,
   "metadata": {},
   "outputs": [
    {
     "data": {
      "text/html": [
       "<div>\n",
       "<style scoped>\n",
       "    .dataframe tbody tr th:only-of-type {\n",
       "        vertical-align: middle;\n",
       "    }\n",
       "\n",
       "    .dataframe tbody tr th {\n",
       "        vertical-align: top;\n",
       "    }\n",
       "\n",
       "    .dataframe thead th {\n",
       "        text-align: right;\n",
       "    }\n",
       "</style>\n",
       "<table border=\"1\" class=\"dataframe\">\n",
       "  <thead>\n",
       "    <tr style=\"text-align: right;\">\n",
       "      <th></th>\n",
       "      <th>PERMNO</th>\n",
       "      <th>DATE</th>\n",
       "      <th>PRC_t+1</th>\n",
       "      <th>mkt</th>\n",
       "      <th>roic</th>\n",
       "      <th>BEME</th>\n",
       "      <th>ME</th>\n",
       "    </tr>\n",
       "  </thead>\n",
       "  <tbody>\n",
       "    <tr>\n",
       "      <th>0</th>\n",
       "      <td>11990.0</td>\n",
       "      <td>2021-01-31</td>\n",
       "      <td>45.560001</td>\n",
       "      <td>0.062958</td>\n",
       "      <td>0.141838</td>\n",
       "      <td>0.651590</td>\n",
       "      <td>2.216991e+07</td>\n",
       "    </tr>\n",
       "    <tr>\n",
       "      <th>1</th>\n",
       "      <td>16736.0</td>\n",
       "      <td>2021-01-31</td>\n",
       "      <td>17.250000</td>\n",
       "      <td>0.057852</td>\n",
       "      <td>0.085396</td>\n",
       "      <td>0.710474</td>\n",
       "      <td>9.768006e+06</td>\n",
       "    </tr>\n",
       "    <tr>\n",
       "      <th>2</th>\n",
       "      <td>75241.0</td>\n",
       "      <td>2021-01-31</td>\n",
       "      <td>148.570007</td>\n",
       "      <td>0.083886</td>\n",
       "      <td>0.112229</td>\n",
       "      <td>0.538726</td>\n",
       "      <td>2.617691e+07</td>\n",
       "    </tr>\n",
       "    <tr>\n",
       "      <th>3</th>\n",
       "      <td>87006.0</td>\n",
       "      <td>2021-01-31</td>\n",
       "      <td>167.179993</td>\n",
       "      <td>0.057735</td>\n",
       "      <td>0.102310</td>\n",
       "      <td>0.719306</td>\n",
       "      <td>7.291137e+06</td>\n",
       "    </tr>\n",
       "    <tr>\n",
       "      <th>4</th>\n",
       "      <td>91531.0</td>\n",
       "      <td>2021-01-31</td>\n",
       "      <td>81.019997</td>\n",
       "      <td>0.080689</td>\n",
       "      <td>0.084081</td>\n",
       "      <td>0.692103</td>\n",
       "      <td>8.398881e+06</td>\n",
       "    </tr>\n",
       "  </tbody>\n",
       "</table>\n",
       "</div>"
      ],
      "text/plain": [
       "    PERMNO       DATE     PRC_t+1       mkt      roic      BEME            ME\n",
       "0  11990.0 2021-01-31   45.560001  0.062958  0.141838  0.651590  2.216991e+07\n",
       "1  16736.0 2021-01-31   17.250000  0.057852  0.085396  0.710474  9.768006e+06\n",
       "2  75241.0 2021-01-31  148.570007  0.083886  0.112229  0.538726  2.617691e+07\n",
       "3  87006.0 2021-01-31  167.179993  0.057735  0.102310  0.719306  7.291137e+06\n",
       "4  91531.0 2021-01-31   81.019997  0.080689  0.084081  0.692103  8.398881e+06"
      ]
     },
     "execution_count": 80,
     "metadata": {},
     "output_type": "execute_result"
    }
   ],
   "source": [
    "vars_list = [\"mkt\", \"roic\", \"BEME\", 'ME']\n",
    "go_long = [True]*len(vars_list)\n",
    "portfolio = Bin_Portfolio(dataframe=subset, vars_to_bin=vars_list, go_long=go_long)\n",
    "portfolio"
   ]
  },
  {
   "cell_type": "code",
   "execution_count": 81,
   "metadata": {},
   "outputs": [],
   "source": [
    "#The PnL curve represents \n",
    "def generate_PnL(portfolio,subset,invest):\n",
    "    pnl = 0\n",
    "    #Gets the PERMNOs of the bin in a list\n",
    "    PERMNO = portfolio[\"PERMNO\"].to_list()\n",
    "\n",
    "    for item in PERMNO:\n",
    "        if pd.isna(subset.loc[subset['PERMNO'] == item, 'PRC_t+1'].values) or pd.isna(subset.loc[subset['PERMNO'] == item, 'PRC'].values):\n",
    "            PERMNO.remove(item)\n",
    "\n",
    "    perstock = invest/len(PERMNO)\n",
    "    \n",
    "    for item in PERMNO:\n",
    "        #Gets the buy and next month sell price of a stock\n",
    "        buyPrc = subset.loc[subset['PERMNO'] == item, 'PRC'].values\n",
    "        sellPrc = subset.loc[subset['PERMNO'] == item, 'PRC_t+1'].values\n",
    "\n",
    "        #Generates the percent return based on a constant, could remove easily\n",
    "        pnl += perstock*(sellPrc/buyPrc)\n",
    "\n",
    "    if pd.isna(pnl):\n",
    "        print(\"RACA YOU FOOL\")\n",
    "        for item in PERMNO:\n",
    "            buyPrc = subset.loc[subset['PERMNO'] == item, 'PRC'].values\n",
    "            sellPrc = subset.loc[subset['PERMNO'] == item, 'PRC_t+1'].values\n",
    "            print(buyPrc, sellPrc)\n",
    "        print('\\n')\n",
    "    return pnl"
   ]
  },
  {
   "cell_type": "code",
   "execution_count": 82,
   "metadata": {},
   "outputs": [
    {
     "name": "stdout",
     "output_type": "stream",
     "text": [
      "[106.53899461]\n"
     ]
    }
   ],
   "source": [
    "print(generate_PnL(portfolio, subset, 100))"
   ]
  },
  {
   "cell_type": "code",
   "execution_count": 83,
   "metadata": {},
   "outputs": [],
   "source": [
    "difDates = df[\"DATE\"].tolist()\n",
    "difDates= list(set(difDates))\n",
    "difDates.sort()\n",
    "allDates = difDates[20:-1]\n",
    "from2010to2019 = difDates[660:768]\n",
    "from2022 = difDates[804:]\n",
    "from2010 = difDates[660:]"
   ]
  },
  {
   "cell_type": "code",
   "execution_count": 84,
   "metadata": {},
   "outputs": [],
   "source": [
    "dates = from2010"
   ]
  },
  {
   "cell_type": "code",
   "execution_count": 85,
   "metadata": {},
   "outputs": [
    {
     "name": "stdout",
     "output_type": "stream",
     "text": [
      "2022-01-31 00:00:00\n"
     ]
    }
   ],
   "source": [
    "print(difDates[804])"
   ]
  },
  {
   "cell_type": "code",
   "execution_count": 86,
   "metadata": {},
   "outputs": [
    {
     "ename": "ValueError",
     "evalue": "There are not enough stocks that satisfy the given requirements",
     "output_type": "error",
     "traceback": [
      "\u001b[1;31m---------------------------------------------------------------------------\u001b[0m",
      "\u001b[1;31mValueError\u001b[0m                                Traceback (most recent call last)",
      "Cell \u001b[1;32mIn[86], line 8\u001b[0m\n\u001b[0;32m      6\u001b[0m \u001b[38;5;28;01mfor\u001b[39;00m date \u001b[38;5;129;01min\u001b[39;00m dates:\n\u001b[0;32m      7\u001b[0m     subset \u001b[38;5;241m=\u001b[39m df[df[\u001b[38;5;124m'\u001b[39m\u001b[38;5;124mDATE\u001b[39m\u001b[38;5;124m'\u001b[39m] \u001b[38;5;241m==\u001b[39m date]\n\u001b[1;32m----> 8\u001b[0m     portfolio \u001b[38;5;241m=\u001b[39m \u001b[43mBin_Portfolio\u001b[49m\u001b[43m(\u001b[49m\u001b[43mdataframe\u001b[49m\u001b[38;5;241;43m=\u001b[39;49m\u001b[43msubset\u001b[49m\u001b[43m,\u001b[49m\u001b[43m \u001b[49m\u001b[43mvars_to_bin\u001b[49m\u001b[38;5;241;43m=\u001b[39;49m\u001b[43mvars_list\u001b[49m\u001b[43m,\u001b[49m\u001b[43m \u001b[49m\u001b[43mgo_long\u001b[49m\u001b[38;5;241;43m=\u001b[39;49m\u001b[43mgo_long\u001b[49m\u001b[43m)\u001b[49m\n\u001b[0;32m      9\u001b[0m     t_array\u001b[38;5;241m.\u001b[39mappend(date)\n\u001b[0;32m     10\u001b[0m     val \u001b[38;5;241m=\u001b[39m generate_PnL(portfolio,subset,Start_Money)[\u001b[38;5;241m0\u001b[39m]\n",
      "Cell \u001b[1;32mIn[76], line 26\u001b[0m, in \u001b[0;36mBin_Portfolio\u001b[1;34m(dataframe, vars_to_bin, go_long, number_of_bins)\u001b[0m\n\u001b[0;32m     23\u001b[0m bin_names\u001b[38;5;241m.\u001b[39mappend(column_name)\n\u001b[0;32m     25\u001b[0m \u001b[38;5;28;01mif\u001b[39;00m \u001b[38;5;28mlen\u001b[39m(df\u001b[38;5;241m.\u001b[39mindex) \u001b[38;5;241m<\u001b[39m\u001b[38;5;241m=\u001b[39m \u001b[38;5;241m1\u001b[39m:\n\u001b[1;32m---> 26\u001b[0m     \u001b[38;5;28;01mraise\u001b[39;00m \u001b[38;5;167;01mValueError\u001b[39;00m(\u001b[38;5;124m\"\u001b[39m\u001b[38;5;124mThere are not enough stocks that satisfy the given requirements\u001b[39m\u001b[38;5;124m\"\u001b[39m)\n\u001b[0;32m     27\u001b[0m df[column_name] \u001b[38;5;241m=\u001b[39m pd\u001b[38;5;241m.\u001b[39mqcut(df[bin_var],number_of_bins,labels\u001b[38;5;241m=\u001b[39m\u001b[38;5;28;01mFalse\u001b[39;00m)\n\u001b[0;32m     29\u001b[0m \u001b[38;5;66;03m# Based on go_long, take the highest or lowest bin\u001b[39;00m\n",
      "\u001b[1;31mValueError\u001b[0m: There are not enough stocks that satisfy the given requirements"
     ]
    }
   ],
   "source": [
    "t_array = []\n",
    "pnlCum = []\n",
    "pnl = []\n",
    "sum = 0\n",
    "Start_Money = 100\n",
    "for date in dates:\n",
    "    subset = df[df['DATE'] == date]\n",
    "    portfolio = Bin_Portfolio(dataframe=subset, vars_to_bin=vars_list, go_long=go_long)\n",
    "    t_array.append(date)\n",
    "    val = generate_PnL(portfolio,subset,Start_Money)[0]\n",
    "    \n",
    "    if not pd.isna(val):\n",
    "        Start_Money = val\n",
    "    pnl.append(val-100)"
   ]
  },
  {
   "cell_type": "code",
   "execution_count": null,
   "metadata": {},
   "outputs": [],
   "source": []
  },
  {
   "cell_type": "code",
   "execution_count": 70,
   "metadata": {},
   "outputs": [
    {
     "name": "stdout",
     "output_type": "stream",
     "text": [
      "[Timestamp('2010-01-31 00:00:00'), Timestamp('2010-02-28 00:00:00'), Timestamp('2010-03-31 00:00:00'), Timestamp('2010-04-30 00:00:00'), Timestamp('2010-05-31 00:00:00'), Timestamp('2010-06-30 00:00:00'), Timestamp('2010-07-31 00:00:00'), Timestamp('2010-08-31 00:00:00'), Timestamp('2010-09-30 00:00:00'), Timestamp('2010-10-31 00:00:00'), Timestamp('2010-11-30 00:00:00'), Timestamp('2010-12-31 00:00:00'), Timestamp('2011-01-31 00:00:00'), Timestamp('2011-02-28 00:00:00'), Timestamp('2011-03-31 00:00:00'), Timestamp('2011-04-30 00:00:00'), Timestamp('2011-05-31 00:00:00'), Timestamp('2011-06-30 00:00:00'), Timestamp('2011-07-31 00:00:00'), Timestamp('2011-08-31 00:00:00'), Timestamp('2011-09-30 00:00:00'), Timestamp('2011-10-31 00:00:00'), Timestamp('2011-11-30 00:00:00'), Timestamp('2011-12-31 00:00:00'), Timestamp('2012-01-31 00:00:00'), Timestamp('2012-02-29 00:00:00'), Timestamp('2012-03-31 00:00:00'), Timestamp('2012-04-30 00:00:00'), Timestamp('2012-05-31 00:00:00'), Timestamp('2012-06-30 00:00:00'), Timestamp('2012-07-31 00:00:00'), Timestamp('2012-08-31 00:00:00'), Timestamp('2012-09-30 00:00:00'), Timestamp('2012-10-31 00:00:00'), Timestamp('2012-11-30 00:00:00'), Timestamp('2012-12-31 00:00:00'), Timestamp('2013-01-31 00:00:00'), Timestamp('2013-02-28 00:00:00'), Timestamp('2013-03-31 00:00:00'), Timestamp('2013-04-30 00:00:00'), Timestamp('2013-05-31 00:00:00'), Timestamp('2013-06-30 00:00:00'), Timestamp('2013-07-31 00:00:00'), Timestamp('2013-08-31 00:00:00'), Timestamp('2013-09-30 00:00:00'), Timestamp('2013-10-31 00:00:00'), Timestamp('2013-11-30 00:00:00'), Timestamp('2013-12-31 00:00:00'), Timestamp('2014-01-31 00:00:00'), Timestamp('2014-02-28 00:00:00'), Timestamp('2014-03-31 00:00:00'), Timestamp('2014-04-30 00:00:00'), Timestamp('2014-05-31 00:00:00'), Timestamp('2014-06-30 00:00:00'), Timestamp('2014-07-31 00:00:00'), Timestamp('2014-08-31 00:00:00'), Timestamp('2014-09-30 00:00:00'), Timestamp('2014-10-31 00:00:00'), Timestamp('2014-11-30 00:00:00'), Timestamp('2014-12-31 00:00:00'), Timestamp('2015-01-31 00:00:00'), Timestamp('2015-02-28 00:00:00'), Timestamp('2015-03-31 00:00:00'), Timestamp('2015-04-30 00:00:00'), Timestamp('2015-05-31 00:00:00'), Timestamp('2015-06-30 00:00:00'), Timestamp('2015-07-31 00:00:00'), Timestamp('2015-08-31 00:00:00'), Timestamp('2015-09-30 00:00:00'), Timestamp('2015-10-31 00:00:00'), Timestamp('2015-11-30 00:00:00'), Timestamp('2015-12-31 00:00:00'), Timestamp('2016-01-31 00:00:00'), Timestamp('2016-02-29 00:00:00'), Timestamp('2016-03-31 00:00:00'), Timestamp('2016-04-30 00:00:00'), Timestamp('2016-05-31 00:00:00'), Timestamp('2016-06-30 00:00:00'), Timestamp('2016-07-31 00:00:00'), Timestamp('2016-08-31 00:00:00'), Timestamp('2016-09-30 00:00:00'), Timestamp('2016-10-31 00:00:00'), Timestamp('2016-11-30 00:00:00'), Timestamp('2016-12-31 00:00:00'), Timestamp('2017-01-31 00:00:00'), Timestamp('2017-02-28 00:00:00'), Timestamp('2017-03-31 00:00:00'), Timestamp('2017-04-30 00:00:00'), Timestamp('2017-05-31 00:00:00'), Timestamp('2017-06-30 00:00:00'), Timestamp('2017-07-31 00:00:00'), Timestamp('2017-08-31 00:00:00'), Timestamp('2017-09-30 00:00:00'), Timestamp('2017-10-31 00:00:00'), Timestamp('2017-11-30 00:00:00'), Timestamp('2017-12-31 00:00:00'), Timestamp('2018-01-31 00:00:00'), Timestamp('2018-02-28 00:00:00'), Timestamp('2018-03-31 00:00:00'), Timestamp('2018-04-30 00:00:00'), Timestamp('2018-05-31 00:00:00'), Timestamp('2018-06-30 00:00:00'), Timestamp('2018-07-31 00:00:00'), Timestamp('2018-08-31 00:00:00'), Timestamp('2018-09-30 00:00:00'), Timestamp('2018-10-31 00:00:00'), Timestamp('2018-11-30 00:00:00'), Timestamp('2018-12-31 00:00:00'), Timestamp('2019-01-31 00:00:00'), Timestamp('2019-02-28 00:00:00'), Timestamp('2019-03-31 00:00:00'), Timestamp('2019-04-30 00:00:00'), Timestamp('2019-05-31 00:00:00'), Timestamp('2019-06-30 00:00:00'), Timestamp('2019-07-31 00:00:00'), Timestamp('2019-08-31 00:00:00'), Timestamp('2019-09-30 00:00:00'), Timestamp('2019-10-31 00:00:00'), Timestamp('2019-11-30 00:00:00'), Timestamp('2019-12-31 00:00:00'), Timestamp('2020-01-31 00:00:00'), Timestamp('2020-02-29 00:00:00'), Timestamp('2020-03-31 00:00:00'), Timestamp('2020-04-30 00:00:00'), Timestamp('2020-05-31 00:00:00'), Timestamp('2020-06-30 00:00:00'), Timestamp('2020-07-31 00:00:00'), Timestamp('2020-08-31 00:00:00'), Timestamp('2020-09-30 00:00:00'), Timestamp('2020-10-31 00:00:00'), Timestamp('2020-11-30 00:00:00'), Timestamp('2020-12-31 00:00:00'), Timestamp('2021-01-31 00:00:00'), Timestamp('2021-02-28 00:00:00'), Timestamp('2021-03-31 00:00:00'), Timestamp('2021-04-30 00:00:00'), Timestamp('2021-05-31 00:00:00'), Timestamp('2021-06-30 00:00:00'), Timestamp('2021-07-31 00:00:00'), Timestamp('2021-08-31 00:00:00'), Timestamp('2021-09-30 00:00:00'), Timestamp('2021-10-31 00:00:00'), Timestamp('2021-11-30 00:00:00'), Timestamp('2021-12-31 00:00:00'), Timestamp('2022-01-31 00:00:00'), Timestamp('2022-02-28 00:00:00'), Timestamp('2022-03-31 00:00:00'), Timestamp('2022-04-30 00:00:00'), Timestamp('2022-05-31 00:00:00'), Timestamp('2022-06-30 00:00:00'), Timestamp('2022-07-31 00:00:00'), Timestamp('2022-08-31 00:00:00'), Timestamp('2022-09-30 00:00:00'), Timestamp('2022-10-31 00:00:00'), Timestamp('2022-11-30 00:00:00'), Timestamp('2022-12-31 00:00:00'), Timestamp('2023-01-31 00:00:00'), Timestamp('2023-02-28 00:00:00'), Timestamp('2023-03-31 00:00:00'), Timestamp('2023-04-30 00:00:00'), Timestamp('2023-05-31 00:00:00'), Timestamp('2023-06-30 00:00:00'), Timestamp('2023-07-31 00:00:00'), Timestamp('2023-08-31 00:00:00'), Timestamp('2023-09-30 00:00:00'), Timestamp('2023-10-31 00:00:00'), Timestamp('2023-11-30 00:00:00'), Timestamp('2023-12-31 00:00:00')]\n",
      "[9.068938338677697, 14.98258579144104, 20.158354656400192, 1.2525877719431975, -3.172083430289149, 2.474889583045666, -3.341268072500938, 5.0661256669216215, 9.183252585414948, 13.771344268145995, 22.296914209315602, 29.79411096506459, 25.22763707248096, 29.31286080713903, 33.63389057029394, 32.72343018240824, 29.885068252133976, 29.950614375578596, 25.818245739003913, 17.71716088887237, 26.716267869242856, 19.825919338184363, 13.737947335195912, 12.98757405718132, 19.353052944021158, 23.01987504177376, 21.013260276178485, 17.082766799676406, 19.842598503660184, 18.615394093908492, 21.599107387510998, 23.77758759987529, 16.360232316942344, 11.75335899838646, 11.475838062229855, 28.614747851860784, 32.89382673120704, 39.02347696651975, 48.09751332931896, 52.83368607588943, 48.69728297035522, 65.08494768620352, 67.52559381032356, 77.42163120634552, 90.396823678045, 90.7605427064189, 98.10899520841863, 64.52486569342855, 71.98195849968965, 77.29666252958054, 80.1477981432325, 86.93017724575398, 80.66757083383735, 72.44260431507686, 72.9091107659766, 61.98246218385816, 67.90696601930597, 69.19618923612109, 64.90633562753663, 60.89671916988536, 69.07419914290816, 71.55579296622577, 61.56711817290798, 62.15212146181642, 57.701262626641636, 54.68867088572404, 53.2246699810664, 38.59053349919418, 44.92690930787387, 52.48996639953563, 27.53673597047984, 21.90453183284545, 17.095136605031144, 33.43913586230758, 38.6744538513849, 33.19355634742632, 34.23982026759495, 32.48045082920484, 35.497146609698206, 34.87605744582376, 35.25601111196329, 43.04057864614302, 45.74143789119785, 46.33495596303314, 49.85395512469, 48.7203923703961, 49.69609252391035, 53.023083679904886, 62.41499293885107, 68.61441577131382, 62.17230102501247, 76.36817156207013, 72.29630204898393, 82.18517592925508, 85.11626382909111, 93.18949522052012, 70.25930148036713, 68.85855395299842, 56.04829695325526, 53.04716403972685, 53.67592848244658, 59.46380742722752, 58.12188298767097, 57.0447793510192, 41.98127771645949, 42.38595243024395, 24.084586900048436, 37.3892584663011, 44.37972363652227, 42.77952167789536, 47.76212184936443, 36.61671687773878, 50.54702274900944, 50.94970708954071, 32.50099233628745, 37.7041072905335, 37.26031565692321, 47.804929074562295, 56.307327742427816, 39.35335297601131, 25.145012585067704, -19.938148059910702, -1.5664274027879799, 4.007217212989119, 17.724587908663224, 26.10097149319033, 30.986345490958968, 23.871195090044466, 26.87279924522275, 40.86667125617328, 53.159347750373314, 57.53437720624774, 67.83554164112641, 78.01652424852821, 90.02402253875215, 94.28446800548244, 100.5735463637165, 97.49274990716009, 106.95390434392857, 93.31760843641857, 113.26302515833828, 106.78613819044244, 118.83891113442905, 113.55476879554189, 100.44524518606491, 101.23247873963655, 92.72568440521553, 114.5128583628763, 94.34203183705176, 126.65502993019021, 127.8381481758856, 104.05769786642492, 134.61680752027536, 135.87366033504546, 118.86008424959573, 133.03742276773266, 123.11722878425735, 116.91171323168118, 128.38928419773634, 119.55281699001088, 153.61667593275843, 171.25361372349562, 174.03224532044635, 167.45838260647162, 148.93392461686506, 172.25528230488572, 199.43636894827142, nan]\n"
     ]
    }
   ],
   "source": [
    "print(t_array)\n",
    "print(pnl)"
   ]
  },
  {
   "cell_type": "code",
   "execution_count": 71,
   "metadata": {},
   "outputs": [],
   "source": [
    "import matplotlib.pyplot as plt"
   ]
  },
  {
   "cell_type": "code",
   "execution_count": 72,
   "metadata": {},
   "outputs": [
    {
     "data": {
      "text/plain": [
       "Text(0, 0.5, 'Profit')"
      ]
     },
     "execution_count": 72,
     "metadata": {},
     "output_type": "execute_result"
    },
    {
     "data": {
      "image/png": "[encoded data removed]",
      "text/plain": [
       "<Figure size 640x480 with 1 Axes>"
      ]
     },
     "metadata": {},
     "output_type": "display_data"
    }
   ],
   "source": [
    "plt.plot(t_array,pnl)\n",
    "plt.grid()\n",
    "plt.title(\"Profts vs Loss\")\n",
    "plt.xlabel(\"Time\")\n",
    "plt.ylabel(\"Profit\")"
   ]
  },
  {
   "cell_type": "code",
   "execution_count": 73,
   "metadata": {},
   "outputs": [],
   "source": [
    "# import pandas as pd\n",
    "# import matplotlib.pyplot as plt\n",
    "\n",
    "# # Sample trade data\n",
    "# # Assuming you have a list of trades with entry and exit prices and quantities\n",
    "# trades = [\n",
    "#     {'entry_price': 100, 'exit_price': 110, 'quantity': 10},\n",
    "#     {'entry_price': 110, 'exit_price': 105, 'quantity': 5},\n",
    "#     {'entry_price': 105, 'exit_price': 120, 'quantity': 15},\n",
    "# ]\n",
    "\n",
    "# # Create a DataFrame to store trades\n",
    "# trade_df = pd.DataFrame(trades)\n",
    "\n",
    "# # Calculate PnL for each trade\n",
    "# trade_df['pnl'] = (trade_df['exit_price'] - trade_df['entry_price']) * trade_df['quantity']\n",
    "\n",
    "# # Cumulative PnL over time\n",
    "# trade_df['cumulative_pnl'] = trade_df['pnl'].cumsum()\n",
    "\n",
    "# # Generate a time index for plotting (assuming trades happen sequentially)\n",
    "# trade_df['time'] = range(len(trade_df))\n",
    "\n",
    "# # Plotting the PnL curve\n",
    "# plt.figure(figsize=(10, 6))\n",
    "# plt.plot(trade_df['time'], trade_df['cumulative_pnl'], marker='o', linestyle='-')\n",
    "# plt.title('Profit and Loss (PnL) Curve')\n",
    "# plt.xlabel('Trade Number')\n",
    "# plt.ylabel('Cumulative PnL')\n",
    "# plt.grid()\n",
    "# plt.show()\n"
   ]
  }
 ],
 "metadata": {
  "kernelspec": {
   "display_name": "Python 3",
   "language": "python",
   "name": "python3"
  },
  "language_info": {
   "codemirror_mode": {
    "name": "ipython",
    "version": 3
   },
   "file_extension": ".py",
   "mimetype": "text/x-python",
   "name": "python",
   "nbconvert_exporter": "python",
   "pygments_lexer": "ipython3",
   "version": "3.12.3"
  }
 },
 "nbformat": 4,
 "nbformat_minor": 2
}
